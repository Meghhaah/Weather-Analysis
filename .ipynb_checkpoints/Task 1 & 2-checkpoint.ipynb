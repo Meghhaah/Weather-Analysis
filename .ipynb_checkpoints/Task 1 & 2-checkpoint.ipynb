{
  "cells": [
    {
      "cell_type": "markdown",
      "id": "intro-001",
      "metadata": {},
      "source": [
        "### **<u>TEMPERATURE DATA ANALYSIS FOR ANN ARBOR, MICHIGAN</u>  *(TASKS 1 & 2)***\n",
        "\n",
        "The complete code block below analyzes and plots temperature records from year 2005-2014 and also overlays 2015 record-breaking data for Ann Arbor, Michigan. "
      ]
    },
    {
      "cell_type": "code",
      "execution_count": null,
      "id": "full-code-002",
      "metadata": {},
      "outputs": [],
      "source": [
        "import pandas as pd\n",
        "import matplotlib.pyplot as plt\n",
        "import numpy as np\n",
        "\n",
        "# Ask the user for the dataset file path\n",
        "file_path = input(\"Enter the path to your dataset file (e.g., 'data.tsv'): \")\n",
        "\n",
        "# Load the dataset\n",
        "try:\n",
        "    df = pd.read_csv(file_path, sep='\\t')  # Assuming the file is a TSV (tab-separated values)\n",
        "except FileNotFoundError:\n",
        "    print(f\"Error: The file '{file_path}' was not found. Please check the path and try again.\")\n",
        "    exit()\n",
        "except Exception as e:\n",
        "    print(f\"An error occurred while loading the dataset: {e}\")\n",
        "    exit()\n",
        "\n",
        "# Convert the 'Date' column to datetime\n",
        "df['Date'] = pd.to_datetime(df['Date'])\n",
        "\n",
        "# Filter data for the period 2005-2014 and 2015\n",
        "df_2005_2014 = df[(df['Date'].dt.year >= 2005) & (df['Date'].dt.year <= 2014)]\n",
        "df_2015 = df[df['Date'].dt.year == 2015]\n",
        "\n",
        "# Group by day of the year and calculate the record high and low temperatures\n",
        "df_2005_2014.loc[:, 'DayOfYear'] = df_2005_2014['Date'].dt.dayofyear\n",
        "record_high = df_2005_2014[df_2005_2014['Element'] == 'TMAX'].groupby('DayOfYear')['Temperature(°C)'].max()\n",
        "record_low = df_2005_2014[df_2005_2014['Element'] == 'TMIN'].groupby('DayOfYear')['Temperature(°C)'].min()\n",
        "\n",
        "# Prepare 2015 data\n",
        "df_2015.loc[:, 'DayOfYear'] = df_2015['Date'].dt.dayofyear\n",
        "df_2015_high = df_2015[df_2015['Element'] == 'TMAX'].set_index('DayOfYear')['Temperature(°C)']\n",
        "df_2015_low = df_2015[df_2015['Element'] == 'TMIN'].set_index('DayOfYear')['Temperature(°C)']\n",
        "\n",
        "# Align the indices of 2015 data with the record data\n",
        "aligned_2015_high, aligned_record_high = df_2015_high.align(record_high, fill_value=np.nan)\n",
        "aligned_2015_low, aligned_record_low = df_2015_low.align(record_low, fill_value=np.nan)\n",
        "\n",
        "# Find where 2015 data breaks the record\n",
        "broken_high = aligned_2015_high[aligned_2015_high > aligned_record_high]\n",
        "broken_low = aligned_2015_low[aligned_2015_low < aligned_record_low]\n",
        "\n",
        "# Plotting\n",
        "plt.figure(figsize=(14, 8))\n",
        "\n",
        "# Plot record high and low temperatures\n",
        "plt.plot(record_high.index, record_high, color='red', label='Record High (2005-2014)')\n",
        "plt.plot(record_low.index, record_low, color='blue', label='Record Low (2005-2014)')\n",
        "\n",
        "# Shade the area between record high and low\n",
        "plt.fill_between(record_high.index, record_high, record_low, color='grey', alpha=0.3)\n",
        "\n",
        "# Overlay 2015 data points where records were broken\n",
        "plt.scatter(broken_high.index, broken_high, color='lime', label='2015 Breaks Record High', zorder=5)\n",
        "plt.scatter(broken_low.index, broken_low, color='gold', label='2015 Breaks Record Low', zorder=5)\n",
        "\n",
        "# Formatting the plot\n",
        "plt.title('Record High and Low Temperatures (2005-2014) with 2015 Overlay\\nNear Ann Arbor, Michigan, United States')\n",
        "plt.xlabel('Day of the Year')\n",
        "plt.ylabel('Temperature (°C)')\n",
        "plt.legend(loc='upper right')\n",
        "plt.grid(True, linestyle='--', alpha=0.7)\n",
        "plt.xticks(np.arange(1, 366, 30), [f'Day {i}' for i in np.arange(1, 366, 30)])\n",
        "plt.tight_layout()\n",
        "\n",
        "# Show the plot\n",
        "plt.show()"
      ]
    },
    {
      "cell_type": "markdown",
      "id": "topic2-md",
      "metadata": {},
      "source": [
        "**1. Data Conversion**"
      ]
    },
    {
      "cell_type": "code",
      "execution_count": null,
      "id": "topic2-code",
      "metadata": {},
      "outputs": [],
      "source": [
        "df['Date'] = pd.to_datetime(df['Date'])"
      ]
    },
    {
      "cell_type": "markdown",
      "id": "topic2-explain",
      "metadata": {},
      "source": [
        "*Converts the 'Date' column to a datetime object, which is necessary for subsequent date-based filtering and operations.*\n",
        "\n"
      ]
    },
    {
      "cell_type": "markdown",
      "id": "topic3-md",
      "metadata": {},
      "source": [
        "**2. Data Filtering**"
      ]
    },
    {
      "cell_type": "code",
      "execution_count": null,
      "id": "topic3-code",
      "metadata": {},
      "outputs": [],
      "source": [
        "df_2005_2014 = df[(df['Date'].dt.year >= 2005) & (df['Date'].dt.year <= 2014)]\n",
        "df_2015 = df[df['Date'].dt.year == 2015]"
      ]
    },
    {
      "cell_type": "markdown",
      "id": "topic3-explain",
      "metadata": {},
      "source": [
        "*Splits the data into two subsets: one for the period 2005-2014 (for record calculations) and one for 2015 (to identify record-breaking observations).*"
      ]
    },
    {
      "cell_type": "markdown",
      "id": "topic4-md",
      "metadata": {},
      "source": [
        "**3. Aggregation (Record Highs and Lows)**"
      ]
    },
    {
      "cell_type": "code",
      "execution_count": null,
      "id": "topic4-code",
      "metadata": {},
      "outputs": [],
      "source": [
        "df_2005_2014.loc[:, 'DayOfYear'] = df_2005_2014['Date'].dt.dayofyear\n",
        "record_high = df_2005_2014[df_2005_2014['Element'] == 'TMAX'].groupby('DayOfYear')['Temperature(°C)'].max()\n",
        "record_low = df_2005_2014[df_2005_2014['Element'] == 'TMIN'].groupby('DayOfYear')['Temperature(°C)'].min()"
      ]
    },
    {
      "cell_type": "markdown",
      "id": "topic4-explain",
      "metadata": {},
      "source": [
        "*Calculates the day of the year for each record in 2005-2014, then groups the data by day to find the maximum temperature (record high) and the minimum temperature (record low) for each day.*"
      ]
    },
    {
      "cell_type": "markdown",
      "id": "topic5-md",
      "metadata": {},
      "source": [
        "**4. Prepare 2015 Data**"
      ]
    },
    {
      "cell_type": "code",
      "execution_count": null,
      "id": "topic5-code",
      "metadata": {},
      "outputs": [],
      "source": [
        "df_2015.loc[:, 'DayOfYear'] = df_2015['Date'].dt.dayofyear\n",
        "df_2015_high = df_2015[df_2015['Element'] == 'TMAX'].set_index('DayOfYear')['Temperature(°C)']\n",
        "df_2015_low = df_2015[df_2015['Element'] == 'TMIN'].set_index('DayOfYear')['Temperature(°C)']"
      ]
    },
    {
      "cell_type": "markdown",
      "id": "topic5-explain",
      "metadata": {},
      "source": [
        "*For 2015, computes the day of the year and creates separate series for maximum and minimum temperatures, setting the day as the index to align with the record data.*"
      ]
    },
    {
      "cell_type": "markdown",
      "id": "topic6-md",
      "metadata": {},
      "source": [
        "**5. Align Data and Identify Record Breakers**"
      ]
    },
    {
      "cell_type": "code",
      "execution_count": null,
      "id": "topic6-code",
      "metadata": {},
      "outputs": [],
      "source": [
        "aligned_2015_high, aligned_record_high = df_2015_high.align(record_high, fill_value=np.nan)\n",
        "aligned_2015_low, aligned_record_low = df_2015_low.align(record_low, fill_value=np.nan)\n",
        "\n",
        "broken_high = aligned_2015_high[aligned_2015_high > aligned_record_high]\n",
        "broken_low = aligned_2015_low[aligned_2015_low < aligned_record_low]"
      ]
    },
    {
      "cell_type": "markdown",
      "id": "topic6-explain",
      "metadata": {},
      "source": [
        "*Aligns the 2015 data with the record data from 2005-2014 and then identifies the days where 2015 temperatures exceed the record high or fall below the record low.*"
      ]
    },
    {
      "cell_type": "markdown",
      "id": "topic7-md",
      "metadata": {},
      "source": [
        "**6. Plotting**"
      ]
    },
    {
      "cell_type": "code",
      "execution_count": null,
      "id": "topic7-code",
      "metadata": {},
      "outputs": [],
      "source": [
        "plt.figure(figsize=(14, 8))\n",
        "\n",
        "plt.plot(record_high.index, record_high, color='red', label='Record High (2005-2014)')\n",
        "plt.plot(record_low.index, record_low, color='blue', label='Record Low (2005-2014)')\n",
        "\n",
        "plt.fill_between(record_high.index, record_high, record_low, color='grey', alpha=0.3)\n",
        "\n",
        "plt.scatter(broken_high.index, broken_high, color='lime', label='2015 Breaks Record High', zorder=5)\n",
        "plt.scatter(broken_low.index, broken_low, color='gold', label='2015 Breaks Record Low', zorder=5)"
      ]
    },
    {
      "cell_type": "markdown",
      "id": "topic7-explain",
      "metadata": {},
      "source": [
        "*Plots the record high and low temperatures as line graphs, shades the area between them, and overlays scatter plots for the 2015 record-breaking data points.*"
      ]
    },
    {
      "cell_type": "markdown",
      "id": "topic8-md",
      "metadata": {},
      "source": [
        "**7. Plot Formatting and Display**"
      ]
    },
    {
      "cell_type": "code",
      "execution_count": null,
      "id": "topic8-code",
      "metadata": {},
      "outputs": [],
      "source": [
        "plt.title('Record High and Low Temperatures (2005-2014) with 2015 Overlay\\nNear Ann Arbor, Michigan, United States')\n",
        "plt.xlabel('Day of the Year')\n",
        "plt.ylabel('Temperature (°C)')\n",
        "plt.legend(loc='upper right')\n",
        "plt.grid(True, linestyle='--', alpha=0.7)\n",
        "plt.xticks(np.arange(1, 366, 30), [f'Day {i}' for i in np.arange(1, 366, 30)])\n",
        "plt.tight_layout()\n",
        "plt.show()"
      ]
    },
    {
      "cell_type": "markdown",
      "id": "topic8-explain",
      "metadata": {},
      "source": [
        "*Adds a title, labels, legend, grid, and custom x-ticks to the plot, then displays the final visualization.*"
      ]
    },
    {
      "cell_type": "markdown",
      "id": "fedac6be",
      "metadata": {},
      "source": [
        "### ***Output***"
      ]
    },
    {
      "cell_type": "markdown",
      "id": "58aebc6c",
      "metadata": {},
      "source": [
        "<img src=\"Output 1.png\" alt=\"Output 1.png\" width=\"1300\">\n"
      ]
    }
  ],
  "metadata": {
    "kernelspec": {
      "display_name": "Python 3",
      "language": "python",
      "name": "python3"
    },
    "language_info": {
      "file_extension": ".py",
      "mimetype": "text/x-python",
      "name": "python",
      "version": "3.x"
    }
  },
  "nbformat": 4,
  "nbformat_minor": 5
}
