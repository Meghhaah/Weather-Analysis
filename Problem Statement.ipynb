{
 "cells": [
  {
   "cell_type": "markdown",
   "id": "e990291b",
   "metadata": {},
   "source": [
    "### **<u>PROBLEM STATEMENT: TEMPERATURE AND WEATHER STATION DATA ANALYSIS NEAR ANN ARBOR, MICHIGAN, USA</u>**"
   ]
  },
  {
   "cell_type": "markdown",
   "id": "54f947ed",
   "metadata": {},
   "source": [
    "This notebook outlines the problem of analyzing temperature records and visualizing weather station data in the vicinity of Ann Arbor, Michigan, USA. It provides a framework for understanding the problem and discusses a logical approach to implementing the analysis and achieving the desired outcomes"
   ]
  },
  {
   "cell_type": "markdown",
   "id": "98200f7d",
   "metadata": {},
   "source": [
    "#### ***Datasets Involved:***\n",
    "- `temperature.csv`: Temperature data of Ann Arbor from various weather stations over the years.\n",
    "- `BinSize.csv`: Global weather stations data with location coordinates."
   ]
  },
  {
   "cell_type": "markdown",
   "id": "510bb1cb",
   "metadata": {},
   "source": [
    "#### ***Key Points to Note:***\n",
    "- Each row in the dataset is a single observation.\n",
    "\n",
    "- Remove leap days (February 29th) for consistent visualization.\n",
    "\n",
    "- Consider proper legends, labels, and avoiding chart clutter while plotting."
   ]
  },
  {
   "cell_type": "markdown",
   "id": "20626f15",
   "metadata": {},
   "source": [
    "#### ***Required Implementations:***\n",
    "1. Plot record high and low temperatures by day (2005-2014) with shaded areas in between.\n",
    "\n",
    "2. Overlay 2015 data points for days when record temperatures were broken.\n",
    "\n",
    "3. Visualize weather stations near Ann Arbor on a map using coordinates.\n",
    "\n",
    "4. Plot a summary of temperature data near Ann Arbor for the year 2015."
   ]
  },
  {
   "cell_type": "markdown",
   "id": "9309a87a",
   "metadata": {},
   "source": [
    "#### ***Logical Implementation***"
   ]
  },
  {
   "cell_type": "markdown",
   "id": "28ae954d",
   "metadata": {},
   "source": [
    "- **Tasks 1 and 2 of the problem statement can be implemented together scince its focusing on the `temperature.csv` dataset only.**\n",
    "\n",
    "    1. Data Filtering:  Extract temperature data from 2005-2014 for record high and low temperatures by day.\n",
    "\n",
    "    2. Data Cleaning:  Remove leap days, handle missing values, and ensure data consistency.\n",
    "\n",
    "    3. Dataset Preparation:  Perform other necessary cleaning, sorting, and organization for relevant visualization.\n",
    "\n",
    "    4. Aggregation:  Calculate daily record highs and lows across the 10-year period.\n",
    "\n",
    "    5. 2015 Data Overlay:  Identify 2015 data points that break previous records.\n",
    "\n",
    "    6. Visualization Design:  Plot a line graph with shaded areas between high and low records and overlay 2015 record-breaking points as scatter plots.\n",
    "\n",
    "    7. Chart Customization:  Include clear legends, axis labels, and avoid chart clutter."
   ]
  },
  {
   "cell_type": "markdown",
   "id": "48939e9f",
   "metadata": {},
   "source": [
    "- **Tasks 3 and 4 of the problem statement can be implemented together scince its needs both the `temperature.csv` and  `BinSize.csv` datasets.**\n",
    "\n",
    "    1. Data Cleaning: Remove unnecessary, irrelevant columns.\n",
    "\n",
    "    2. Data Filtering:  Filter out stations not present in `temperature.csv` from `BinSize.csv` to ensure data relevance.\n",
    "\n",
    "    3. Geospatial Filtering: Calculate distances from Ann Arbor coordinates and filter and keep only rows in which stations are within a 100 km radius.\n",
    "\n",
    "    4. Dataset Preparation:  Perform other necessary cleaning, sorting, and organization for relevant visualization.\n",
    "\n",
    "    5. Map Visualization: Use latitude and longitude to plot weather stations on a map near Ann Arbor.\n",
    "\n",
    "    4. Temperature Summary Plot: Extract 2015 data from `temperature.csv` and plot a summary of temperatures near Ann Arbor.\n",
    "\n",
    "    5. Chart Design: Include clear legends, axis labels, and ensure visual clarity.\n",
    "      "
   ]
  }
 ],
 "metadata": {
  "kernelspec": {
   "display_name": "Python 3 (ipykernel)",
   "language": "python",
   "name": "python3"
  },
  "language_info": {
   "codemirror_mode": {
    "name": "ipython",
    "version": 3
   },
   "file_extension": ".py",
   "mimetype": "text/x-python",
   "name": "python",
   "nbconvert_exporter": "python",
   "pygments_lexer": "ipython3",
   "version": "3.12.5"
  }
 },
 "nbformat": 4,
 "nbformat_minor": 5
}
