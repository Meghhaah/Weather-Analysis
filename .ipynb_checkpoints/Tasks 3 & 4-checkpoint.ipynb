{
  "cells": [
    {
      "cell_type": "markdown",
      "id": "intro-003",
      "metadata": {},
      "source": [
        "### **<u>WEATHER STATIONS & TEMPERATURE SUMMARY ANALYSIS NEAR ANN ARBOR</u>    *(TASKS 3 & 4)***\n",
        "\n",
        "The complete code block below analyzes weather station data and plots a temperature summary for 2015 near Ann Arbor, Michigan. It uses two datasets: one for stations locations and one for temperature data."
      ]
    },
    {
      "cell_type": "code",
      "execution_count": null,
      "id": "full-code-004",
      "metadata": {},
      "outputs": [],
      "source": [
        "import pandas as pd\n",
        "import matplotlib.pyplot as plt\n",
        "import contextily as ctx\n",
        "import os\n",
        "\n",
        "# ----------------------------\n",
        "# Part 1: Load Stations Dataset\n",
        "# ----------------------------\n",
        "\n",
        "# Ask the user for the path to the stations dataset\n",
        "stations_path = os.path.join(os.path.dirname(__file__), 'W-Stations_Cleaned.tsv')\n",
        "\n",
        "# Validate the file path\n",
        "if not os.path.exists(stations_path) or not stations_path:\n",
        "    raise FileNotFoundError(\"The provided Stations file path is invalid or empty.\")\n",
        "\n",
        "# Load the stations dataset\n",
        "stations_df = pd.read_csv(stations_path, sep='\\t')\n",
        "\n",
        "# Convert the stations DataFrame to a GeoDataFrame (for mapping)\n",
        "from geopandas import GeoDataFrame\n",
        "from shapely.geometry import Point\n",
        "\n",
        "# Create a geometry column from latitude and longitude\n",
        "geometry = [Point(lon, lat) for lon, lat in zip(stations_df['LONGITUDE'], stations_df['LATITUDE'])]\n",
        "nearby_stations = GeoDataFrame(stations_df, geometry=geometry, crs=\"EPSG:4326\")  # WGS84\n",
        "\n",
        "# Reproject to EPSG:3857 (Web Mercator) for compatibility with Contextily\n",
        "nearby_stations = nearby_stations.to_crs(epsg=3857)\n",
        "\n",
        "# ----------------------------\n",
        "# Part 2: Plot Stations on a Map with Basemap\n",
        "# ----------------------------\n",
        "\n",
        "# Create a figure with two subplots\n",
        "fig, ax = plt.subplots(1, 2, figsize=(16, 8))\n",
        "\n",
        "# Plot the nearby stations on the left subplot\n",
        "nearby_stations.plot(ax=ax[0], marker='o', color='darkorange', markersize=50, label=\"Station\")\n",
        "ax[0].set_title(\"Weather Stations near Ann Arbor, MI\")\n",
        "ax[0].set_xlabel(\"Longitude\")\n",
        "ax[0].set_ylabel(\"Latitude\")\n",
        "ax[0].legend()\n",
        "\n",
        "# Add basemap using Contextily with OpenStreetMap Mapnik\n",
        "ctx.add_basemap(ax[0], source=ctx.providers.OpenStreetMap.Mapnik)\n",
        "\n",
        "# Optionally, remove axis labels for a cleaner map view\n",
        "ax[0].set_axis_off()\n",
        "\n",
        "# ----------------------------\n",
        "# Part 3: Load Temperature Dataset and Filter for 2015\n",
        "# ----------------------------\n",
        "\n",
        "# Ask the user for the path to the temperature dataset\n",
        "temp_path = os.path.join(os.path.dirname(__file__), 'Temp_Cleaned.tsv')\n",
        "\n",
        "# Validate the file path\n",
        "if not os.path.exists(temp_path) or not temp_path:\n",
        "    raise FileNotFoundError(\"The provided Temperature file path is invalid or empty.\")\n",
        "\n",
        "# Load the temperature dataset\n",
        "temp_data = pd.read_csv(temp_path, sep='\\t')\n",
        "\n",
        "# Convert 'Date' column to datetime\n",
        "temp_data['Date'] = pd.to_datetime(temp_data['Date'])\n",
        "\n",
        "# Filter temperature data for 2015\n",
        "temp_2015 = temp_data[temp_data['Date'].dt.year == 2015].copy()\n",
        "\n",
        "# Filter temperature data for the nearby stations\n",
        "nearby_ids = nearby_stations['ID'].unique()\n",
        "temp_2015_near = temp_2015[temp_2015['ID'].isin(nearby_ids)].copy()\n",
        "\n",
        "# Group by Date and compute summary statistics (min, max, mean)\n",
        "temp_summary = temp_2015_near.groupby('Date')['Temperature(°C)'].agg(['min', 'max', 'mean'])\n",
        "\n",
        "# ----------------------------\n",
        "# Part 4: Plot Temperature Summary for 2015\n",
        "# ----------------------------\n",
        "\n",
        "# Plot the temperature summary on the right subplot\n",
        "ax[1].plot(temp_summary.index, temp_summary['min'], label='Min Temp', color='blue', linewidth=2)\n",
        "ax[1].plot(temp_summary.index, temp_summary['max'], label='Max Temp', color='red', linewidth=2)\n",
        "ax[1].plot(temp_summary.index, temp_summary['mean'], label='Mean Temp', color='green', linewidth=2)\n",
        "ax[1].fill_between(temp_summary.index, temp_summary['min'], temp_summary['max'], color='grey', alpha=0.3)\n",
        "\n",
        "# Format the temperature summary plot\n",
        "ax[1].set_title(\"Temperature Summary near Ann Arbor, MI (2015)\")\n",
        "ax[1].set_xlabel(\"Date\")\n",
        "ax[1].set_ylabel(\"Temperature (°C)\")\n",
        "ax[1].legend()\n",
        "ax[1].grid(True, linestyle='--', alpha=0.5)\n",
        "\n",
        "# Adjust layout and display the plot\n",
        "plt.tight_layout()\n",
        "plt.show()"
      ]
    },
    {
      "cell_type": "markdown",
      "id": "topic1-md",
      "metadata": {},
      "source": [
        "**1. Co-ordinates Conversion**"
      ]
    },
    {
      "cell_type": "code",
      "execution_count": null,
      "id": "topic1-code",
      "metadata": {},
      "outputs": [],
      "source": [
        "from geopandas import GeoDataFrame\n",
        "from shapely.geometry import Point\n",
        "\n",
        "geometry = [Point(lon, lat) for lon, lat in zip(stations_df['LONGITUDE'], stations_df['LATITUDE'])]\n",
        "nearby_stations = GeoDataFrame(stations_df, geometry=geometry, crs=\"EPSG:4326\")\n",
        "nearby_stations = nearby_stations.to_crs(epsg=3857)"
      ]
    },
    {
      "cell_type": "markdown",
      "id": "topic1-explain",
      "metadata": {},
      "source": [
        "*Converts the DataFrame into a GeoDataFrame for mapping purposes.*"
      ]
    },
    {
      "cell_type": "markdown",
      "id": "topic2-md",
      "metadata": {},
      "source": [
        "**2. Plot Stations on a Map with Basemap**"
      ]
    },
    {
      "cell_type": "code",
      "execution_count": null,
      "id": "topic2-code",
      "metadata": {},
      "outputs": [],
      "source": [
        "fig, ax = plt.subplots(1, 2, figsize=(16, 8))\n",
        "\n",
        "nearby_stations.plot(ax=ax[0], marker='o', color='darkorange', markersize=50, label=\"Station\")\n",
        "ax[0].set_title(\"Weather Stations near Ann Arbor, MI\")\n",
        "ax[0].set_xlabel(\"Longitude\")\n",
        "ax[0].set_ylabel(\"Latitude\")\n",
        "ax[0].legend()\n",
        "\n",
        "ctx.add_basemap(ax[0], source=ctx.providers.OpenStreetMap.Mapnik)\n",
        "ax[0].set_axis_off()"
      ]
    },
    {
      "cell_type": "markdown",
      "id": "topic2-explain",
      "metadata": {},
      "source": [
        "*Creates a figure with two subplots and plots the weather stations on the left subplot using Contextily to add a basemap.*"
      ]
    },
    {
      "cell_type": "markdown",
      "id": "topic3-md",
      "metadata": {},
      "source": [
        "**3. Filter for 2015**"
      ]
    },
    {
      "cell_type": "code",
      "execution_count": null,
      "id": "topic3-code",
      "metadata": {},
      "outputs": [],
      "source": [
        "temp_data = pd.read_csv(temp_path, sep='\\t')\n",
        "temp_data['Date'] = pd.to_datetime(temp_data['Date'])\n",
        "\n",
        "temp_2015 = temp_data[temp_data['Date'].dt.year == 2015].copy()\n",
        "nearby_ids = nearby_stations['ID'].unique()\n",
        "temp_2015_near = temp_2015[temp_2015['ID'].isin(nearby_ids)].copy()\n",
        "temp_summary = temp_2015_near.groupby('Date')['Temperature(°C)'].agg(['min', 'max', 'mean'])"
      ]
    },
    {
      "cell_type": "markdown",
      "id": "topic3-explain",
      "metadata": {},
      "source": [
        "*Prompts for the temperature dataset file, validates and loads the data, converts the 'Date' column, filters the data for 2015, restricts it to the nearby stations, and computes daily summary statistics (minimum, maximum, and mean temperatures).*"
      ]
    },
    {
      "cell_type": "markdown",
      "id": "topic4-md",
      "metadata": {},
      "source": [
        "**4. Plot Temperature Summary for 2015**"
      ]
    },
    {
      "cell_type": "code",
      "execution_count": null,
      "id": "topic4-code",
      "metadata": {},
      "outputs": [],
      "source": [
        "ax[1].plot(temp_summary.index, temp_summary['min'], label='Min Temp', color='blue', linewidth=2)\n",
        "ax[1].plot(temp_summary.index, temp_summary['max'], label='Max Temp', color='red', linewidth=2)\n",
        "ax[1].plot(temp_summary.index, temp_summary['mean'], label='Mean Temp', color='green', linewidth=2)\n",
        "ax[1].fill_between(temp_summary.index, temp_summary['min'], temp_summary['max'], color='grey', alpha=0.3)\n",
        "\n",
        "ax[1].set_title(\"Temperature Summary near Ann Arbor, MI (2015)\")\n",
        "ax[1].set_xlabel(\"Date\")\n",
        "ax[1].set_ylabel(\"Temperature (°C)\")\n",
        "ax[1].legend()\n",
        "ax[1].grid(True, linestyle='--', alpha=0.5)\n",
        "\n",
        "plt.tight_layout()\n",
        "plt.show()"
      ]
    },
    {
      "cell_type": "markdown",
      "id": "topic4-explain",
      "metadata": {},
      "source": [
        "*Plots the temperature summary (min, max, and mean temperatures) on the right subplot, formats the plot with titles, labels, legends, and grid lines, and then displays the final visualization.*"
      ]
    }
  ],
  "metadata": {
    "kernelspec": {
      "display_name": "Python 3",
      "language": "python",
      "name": "python3"
    },
    "language_info": {
      "file_extension": ".py",
      "mimetype": "text/x-python",
      "name": "python",
      "version": "3.x"
    }
  },
  "nbformat": 4,
  "nbformat_minor": 5
}
